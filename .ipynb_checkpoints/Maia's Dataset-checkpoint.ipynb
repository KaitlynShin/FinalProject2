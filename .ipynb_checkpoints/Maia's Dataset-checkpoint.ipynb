{
 "cells": [
  {
   "cell_type": "code",
   "execution_count": 5,
   "metadata": {},
   "outputs": [],
   "source": [
    "# Imports\n",
    "import pandas as pd\n",
    "import numpy as np\n",
    "import math\n",
    "import geopandas as gpd\n",
    "%matplotlib inline\n",
    "import matplotlib.pyplot as plt"
   ]
  },
  {
   "cell_type": "markdown",
   "metadata": {},
   "source": [
    "# Submetric: Parks Dataset\n",
    "I chose the Parks dataset because in case of a zombie apocalypse, having more parks means that you have more space to hide/avoid zombies. \n"
   ]
  },
  {
   "cell_type": "code",
   "execution_count": 16,
   "metadata": {
    "collapsed": true,
    "jupyter": {
     "outputs_hidden": true
    }
   },
   "outputs": [
    {
     "data": {
      "text/html": [
       "<div>\n",
       "<style scoped>\n",
       "    .dataframe tbody tr th:only-of-type {\n",
       "        vertical-align: middle;\n",
       "    }\n",
       "\n",
       "    .dataframe tbody tr th {\n",
       "        vertical-align: top;\n",
       "    }\n",
       "\n",
       "    .dataframe thead th {\n",
       "        text-align: right;\n",
       "    }\n",
       "</style>\n",
       "<table border=\"1\" class=\"dataframe\">\n",
       "  <thead>\n",
       "    <tr style=\"text-align: right;\">\n",
       "      <th></th>\n",
       "      <th>objectid_1</th>\n",
       "      <th>objectid</th>\n",
       "      <th>acreage</th>\n",
       "      <th>sqft</th>\n",
       "      <th>final_cat</th>\n",
       "      <th>type</th>\n",
       "      <th>sector</th>\n",
       "      <th>origpkname</th>\n",
       "      <th>updatepknm</th>\n",
       "      <th>alterntnam</th>\n",
       "      <th>...</th>\n",
       "      <th>globalid</th>\n",
       "      <th>created_user</th>\n",
       "      <th>created_date</th>\n",
       "      <th>last_edited_user</th>\n",
       "      <th>last_edited_date</th>\n",
       "      <th>maintenanceresponsibility</th>\n",
       "      <th>dpw_ac</th>\n",
       "      <th>globalid_1</th>\n",
       "      <th>shape_area</th>\n",
       "      <th>shape_length</th>\n",
       "    </tr>\n",
       "  </thead>\n",
       "  <tbody>\n",
       "    <tr>\n",
       "      <th>0</th>\n",
       "      <td>1202</td>\n",
       "      <td>36</td>\n",
       "      <td>0.959034</td>\n",
       "      <td>41775.367101</td>\n",
       "      <td>Neighborhood Park</td>\n",
       "      <td>NP</td>\n",
       "      <td>15</td>\n",
       "      <td>Cliffside Parklet</td>\n",
       "      <td>August Wilson Park</td>\n",
       "      <td>Cliffside Park</td>\n",
       "      <td>...</td>\n",
       "      <td>764d9a2f-719c-49c2-b747-8f276149bf04</td>\n",
       "      <td>pgh.dcp.allisot</td>\n",
       "      <td>2022-08-24T16:53:03.812000+00:00</td>\n",
       "      <td>pgh.dcp.allisot</td>\n",
       "      <td>2022-08-24T16:53:03.812000+00:00</td>\n",
       "      <td>Parks - Schenley</td>\n",
       "      <td>0.959034</td>\n",
       "      <td>f781af9c-9ec2-4b5e-b5c5-9cc21608635c</td>\n",
       "      <td>6709.199219</td>\n",
       "      <td>390.397012</td>\n",
       "    </tr>\n",
       "    <tr>\n",
       "      <th>1</th>\n",
       "      <td>1203</td>\n",
       "      <td>198</td>\n",
       "      <td>2.060117</td>\n",
       "      <td>89738.347520</td>\n",
       "      <td>Neighborhood Park</td>\n",
       "      <td>NP</td>\n",
       "      <td>2</td>\n",
       "      <td>Young Field</td>\n",
       "      <td>Young Field Park</td>\n",
       "      <td>Young Park</td>\n",
       "      <td>...</td>\n",
       "      <td>9b969f67-1f2e-4f4b-8556-e4ac49ca208e</td>\n",
       "      <td>pgh.dcp.allisot</td>\n",
       "      <td>2022-08-24T16:53:03.812000+00:00</td>\n",
       "      <td>pgh.dcp.allisot</td>\n",
       "      <td>2022-08-24T16:53:03.812000+00:00</td>\n",
       "      <td>Parks - Northern</td>\n",
       "      <td>2.060117</td>\n",
       "      <td>659c4c55-50fc-4883-8606-76f029fcca47</td>\n",
       "      <td>14423.394531</td>\n",
       "      <td>511.979940</td>\n",
       "    </tr>\n",
       "    <tr>\n",
       "      <th>2</th>\n",
       "      <td>1204</td>\n",
       "      <td>158</td>\n",
       "      <td>0.468682</td>\n",
       "      <td>20415.724875</td>\n",
       "      <td>Neighborhood Park</td>\n",
       "      <td>NP</td>\n",
       "      <td>8</td>\n",
       "      <td>Revenue Park</td>\n",
       "      <td>Roland Lockridge Community Park</td>\n",
       "      <td>Roland Lockridge Community Park</td>\n",
       "      <td>...</td>\n",
       "      <td>44bbbdf5-c2db-451c-b880-9251b8211455</td>\n",
       "      <td>pgh.dcp.allisot</td>\n",
       "      <td>2022-08-24T16:53:03.812000+00:00</td>\n",
       "      <td>pgh.dcp.allisot</td>\n",
       "      <td>2022-08-24T16:53:03.812000+00:00</td>\n",
       "      <td>Parks - Eastern</td>\n",
       "      <td>0.468682</td>\n",
       "      <td>04e61cab-bea6-47dd-964a-0723197726cf</td>\n",
       "      <td>3273.722656</td>\n",
       "      <td>236.488235</td>\n",
       "    </tr>\n",
       "    <tr>\n",
       "      <th>3</th>\n",
       "      <td>1205</td>\n",
       "      <td>72</td>\n",
       "      <td>1.955430</td>\n",
       "      <td>85178.182207</td>\n",
       "      <td>Neighborhood Park</td>\n",
       "      <td>NP</td>\n",
       "      <td>12</td>\n",
       "      <td>Friendship Park</td>\n",
       "      <td>Friendship Park</td>\n",
       "      <td>Friendship Park</td>\n",
       "      <td>...</td>\n",
       "      <td>f95cbafc-dcd8-493f-8b98-89745c6434ca</td>\n",
       "      <td>pgh.dcp.allisot</td>\n",
       "      <td>2022-08-24T16:53:03.812000+00:00</td>\n",
       "      <td>pgh.dcp.allisot</td>\n",
       "      <td>2022-08-24T16:53:03.812000+00:00</td>\n",
       "      <td>Parks - Northeast</td>\n",
       "      <td>1.955430</td>\n",
       "      <td>22563a68-61d3-46f3-9d5c-4558ee12be1f</td>\n",
       "      <td>13686.265625</td>\n",
       "      <td>760.982871</td>\n",
       "    </tr>\n",
       "  </tbody>\n",
       "</table>\n",
       "<p>4 rows × 22 columns</p>\n",
       "</div>"
      ],
      "text/plain": [
       "   objectid_1  objectid   acreage          sqft          final_cat type  \\\n",
       "0        1202        36  0.959034  41775.367101  Neighborhood Park   NP   \n",
       "1        1203       198  2.060117  89738.347520  Neighborhood Park   NP   \n",
       "2        1204       158  0.468682  20415.724875  Neighborhood Park   NP   \n",
       "3        1205        72  1.955430  85178.182207  Neighborhood Park   NP   \n",
       "\n",
       "   sector         origpkname                       updatepknm  \\\n",
       "0      15  Cliffside Parklet               August Wilson Park   \n",
       "1       2        Young Field                 Young Field Park   \n",
       "2       8       Revenue Park  Roland Lockridge Community Park   \n",
       "3      12    Friendship Park                  Friendship Park   \n",
       "\n",
       "                        alterntnam  ...                              globalid  \\\n",
       "0                   Cliffside Park  ...  764d9a2f-719c-49c2-b747-8f276149bf04   \n",
       "1                       Young Park  ...  9b969f67-1f2e-4f4b-8556-e4ac49ca208e   \n",
       "2  Roland Lockridge Community Park  ...  44bbbdf5-c2db-451c-b880-9251b8211455   \n",
       "3                  Friendship Park  ...  f95cbafc-dcd8-493f-8b98-89745c6434ca   \n",
       "\n",
       "      created_user                      created_date last_edited_user  \\\n",
       "0  pgh.dcp.allisot  2022-08-24T16:53:03.812000+00:00  pgh.dcp.allisot   \n",
       "1  pgh.dcp.allisot  2022-08-24T16:53:03.812000+00:00  pgh.dcp.allisot   \n",
       "2  pgh.dcp.allisot  2022-08-24T16:53:03.812000+00:00  pgh.dcp.allisot   \n",
       "3  pgh.dcp.allisot  2022-08-24T16:53:03.812000+00:00  pgh.dcp.allisot   \n",
       "\n",
       "                   last_edited_date maintenanceresponsibility    dpw_ac  \\\n",
       "0  2022-08-24T16:53:03.812000+00:00          Parks - Schenley  0.959034   \n",
       "1  2022-08-24T16:53:03.812000+00:00          Parks - Northern  2.060117   \n",
       "2  2022-08-24T16:53:03.812000+00:00           Parks - Eastern  0.468682   \n",
       "3  2022-08-24T16:53:03.812000+00:00         Parks - Northeast  1.955430   \n",
       "\n",
       "                             globalid_1    shape_area shape_length  \n",
       "0  f781af9c-9ec2-4b5e-b5c5-9cc21608635c   6709.199219   390.397012  \n",
       "1  659c4c55-50fc-4883-8606-76f029fcca47  14423.394531   511.979940  \n",
       "2  04e61cab-bea6-47dd-964a-0723197726cf   3273.722656   236.488235  \n",
       "3  22563a68-61d3-46f3-9d5c-4558ee12be1f  13686.265625   760.982871  \n",
       "\n",
       "[4 rows x 22 columns]"
      ]
     },
     "execution_count": 16,
     "metadata": {},
     "output_type": "execute_result"
    }
   ],
   "source": [
    "#Reading in csv file\n",
    "parks = pd.read_csv(\"parks.csv\")\n",
    "parks.head(4)"
   ]
  },
  {
   "cell_type": "code",
   "execution_count": 9,
   "metadata": {
    "collapsed": true,
    "jupyter": {
     "outputs_hidden": true
    }
   },
   "outputs": [
    {
     "data": {
      "text/plain": [
       "<matplotlib.axes._subplots.AxesSubplot at 0x7f6c1ebe2730>"
      ]
     },
     "execution_count": 9,
     "metadata": {},
     "output_type": "execute_result"
    },
    {
     "data": {
      "image/png": "[encoded data removed]",
      "text/plain": [
       "<Figure size 432x288 with 1 Axes>"
      ]
     },
     "metadata": {
      "needs_background": "light"
     },
     "output_type": "display_data"
    }
   ],
   "source": [
    "#Plotting the map  \n",
    "park_map = gpd.read_file('Parks Dataset/PGHWebParks.shp')\n",
    "park_map.plot()"
   ]
  },
  {
   "cell_type": "code",
   "execution_count": null,
   "metadata": {},
   "outputs": [],
   "source": []
  }
 ],
 "metadata": {
  "kernelspec": {
   "display_name": "Python 3",
   "language": "python",
   "name": "python3"
  },
  "language_info": {
   "codemirror_mode": {
    "name": "ipython",
    "version": 3
   },
   "file_extension": ".py",
   "mimetype": "text/x-python",
   "name": "python",
   "nbconvert_exporter": "python",
   "pygments_lexer": "ipython3",
   "version": "3.8.3"
  }
 },
 "nbformat": 4,
 "nbformat_minor": 4
}
