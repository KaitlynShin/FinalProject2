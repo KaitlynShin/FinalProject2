{
 "cells": [
  {
   "cell_type": "code",
   "execution_count": 25,
   "metadata": {},
   "outputs": [],
   "source": [
    "# Imports \n",
    "import pandas as pd\n",
    "import numpy as np\n",
    "import math\n",
    "import geopandas as gpd\n",
    "%matplotlib inline\n",
    "import matplotlib.pyplot as plt"
   ]
  },
  {
   "cell_type": "markdown",
   "metadata": {},
   "source": [
    "# Introduction\n",
    "## Best Neighborhood in case of a Zombie Apocalypse \n",
    "**Introduce the project, your approach, talk about the process of how you came up with the metric and some alternatives you may have explored.**\n",
    "We chose to find the best neighboorhood in case of a zombie apocalypse. \n",
    "\n",
    "## The Metric \n",
    "The metric is to find the best neighborhood in case of a zombie apocalypse. We decided to base our stuff on the least amunt of people in a neighborhood but on the most parks and bridges. \n",
    "\n",
    "Therfore, our datasets are  \n",
    "\n",
    "**Parks**: Having more parks means that you have more space to hide/avoid zombies. \n",
    "\n",
    "Bridges: \n",
    "\n",
    "Population: \n",
    "\n",
    "\n"
   ]
  },
  {
   "cell_type": "code",
   "execution_count": 8,
   "metadata": {},
   "outputs": [],
   "source": [
    "#Read data from csv files\n",
    "parks = pd.read_csv()\n",
    "population = pd.read_csv(\"Neighborhood_Population.csv\") \n"
   ]
  },
  {
   "cell_type": "code",
   "execution_count": 26,
   "metadata": {},
   "outputs": [],
   "source": [
    "#Maia's Dataset: Parks \n",
    "\n"
   ]
  },
  {
   "cell_type": "code",
   "execution_count": null,
   "metadata": {},
   "outputs": [],
   "source": []
  },
  {
   "cell_type": "code",
   "execution_count": null,
   "metadata": {},
   "outputs": [],
   "source": []
  }
 ],
 "metadata": {
  "kernelspec": {
   "display_name": "Python 3",
   "language": "python",
   "name": "python3"
  },
  "language_info": {
   "codemirror_mode": {
    "name": "ipython",
    "version": 3
   },
   "file_extension": ".py",
   "mimetype": "text/x-python",
   "name": "python",
   "nbconvert_exporter": "python",
   "pygments_lexer": "ipython3",
   "version": "3.8.3"
  }
 },
 "nbformat": 4,
 "nbformat_minor": 4
}
