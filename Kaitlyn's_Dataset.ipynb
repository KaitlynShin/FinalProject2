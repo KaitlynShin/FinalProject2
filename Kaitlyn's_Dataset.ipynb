{
 "cells": [
  {
   "cell_type": "code",
   "execution_count": 2,
   "metadata": {},
   "outputs": [],
   "source": [
    "# Imports\n",
    "import pandas as pd\n",
    "import numpy as np\n",
    "import math\n",
    "import geopandas as gpd\n",
    "%matplotlib inline\n",
    "import matplotlib.pyplot as plt"
   ]
  },
  {
   "cell_type": "markdown",
   "metadata": {},
   "source": [
    "# Submetric: Bridges Dataset\n",
    "For the Final Project I decided to choose a dataset which focused on bridges.  In the case of a zombie apocalypse, having the most amount of brides conntected to a neighborhood would be beneficial for the residents since the destruction of those bridges would ultimately limit the amount of routes and entrances zombies would be able to enter from.\n",
    "\n",
    "Using this dataset, I will be able to calculate the neighborhoods with the most and least amount of bridge connections in order to conclude which neighborhood would be best in a zombie apocalypse."
   ]
  },
  {
   "cell_type": "code",
   "execution_count": 4,
   "metadata": {},
   "outputs": [
    {
     "data": {
      "text/html": [
       "<div>\n",
       "<style scoped>\n",
       "    .dataframe tbody tr th:only-of-type {\n",
       "        vertical-align: middle;\n",
       "    }\n",
       "\n",
       "    .dataframe tbody tr th {\n",
       "        vertical-align: top;\n",
       "    }\n",
       "\n",
       "    .dataframe thead th {\n",
       "        text-align: right;\n",
       "    }\n",
       "</style>\n",
       "<table border=\"1\" class=\"dataframe\">\n",
       "  <thead>\n",
       "    <tr style=\"text-align: right;\">\n",
       "      <th></th>\n",
       "      <th>id</th>\n",
       "      <th>name</th>\n",
       "      <th>start_neighborhood</th>\n",
       "      <th>end_neighborhood</th>\n",
       "      <th>year_built</th>\n",
       "      <th>year_rehab</th>\n",
       "      <th>image</th>\n",
       "      <th>neighborhood</th>\n",
       "      <th>council_district</th>\n",
       "      <th>ward</th>\n",
       "      <th>tract</th>\n",
       "      <th>public_works_division</th>\n",
       "      <th>pli_division</th>\n",
       "      <th>police_zone</th>\n",
       "      <th>fire_zone</th>\n",
       "      <th>latitude</th>\n",
       "      <th>longitude</th>\n",
       "    </tr>\n",
       "  </thead>\n",
       "  <tbody>\n",
       "    <tr>\n",
       "      <th>0</th>\n",
       "      <td>2002832442</td>\n",
       "      <td>Fort Duquesne Blvd</td>\n",
       "      <td>Central Business District</td>\n",
       "      <td>NaN</td>\n",
       "      <td>NaN</td>\n",
       "      <td>NaN</td>\n",
       "      <td>NaN</td>\n",
       "      <td>Central Business District</td>\n",
       "      <td>6</td>\n",
       "      <td>2.0</td>\n",
       "      <td>42003020100</td>\n",
       "      <td>6.0</td>\n",
       "      <td>2.0</td>\n",
       "      <td>2.0</td>\n",
       "      <td>1-3</td>\n",
       "      <td>40.446450</td>\n",
       "      <td>-79.996537</td>\n",
       "    </tr>\n",
       "    <tr>\n",
       "      <th>1</th>\n",
       "      <td>761156487</td>\n",
       "      <td>28th Street Bridge</td>\n",
       "      <td>Strip District</td>\n",
       "      <td>Polish Hill</td>\n",
       "      <td>1931.0</td>\n",
       "      <td>1974.0</td>\n",
       "      <td>https://tools.wprdc.org/images/pittsburgh/brid...</td>\n",
       "      <td>Strip District</td>\n",
       "      <td>7</td>\n",
       "      <td>6.0</td>\n",
       "      <td>42003060500</td>\n",
       "      <td>6.0</td>\n",
       "      <td>6.0</td>\n",
       "      <td>2.0</td>\n",
       "      <td>2-25</td>\n",
       "      <td>40.456182</td>\n",
       "      <td>-79.973714</td>\n",
       "    </tr>\n",
       "    <tr>\n",
       "      <th>2</th>\n",
       "      <td>290122944</td>\n",
       "      <td>Second Avenue Bridge</td>\n",
       "      <td>Squirrel Hill South</td>\n",
       "      <td>Swisshelm Park</td>\n",
       "      <td>1886.0</td>\n",
       "      <td>1970.0</td>\n",
       "      <td>NaN</td>\n",
       "      <td>Swisshelm Park</td>\n",
       "      <td>5</td>\n",
       "      <td>14.0</td>\n",
       "      <td>42003141400</td>\n",
       "      <td>3.0</td>\n",
       "      <td>14.0</td>\n",
       "      <td>4.0</td>\n",
       "      <td>2-12</td>\n",
       "      <td>40.415210</td>\n",
       "      <td>-79.915699</td>\n",
       "    </tr>\n",
       "    <tr>\n",
       "      <th>3</th>\n",
       "      <td>1811170969</td>\n",
       "      <td>Alexander Street Bridge</td>\n",
       "      <td>West End</td>\n",
       "      <td>NaN</td>\n",
       "      <td>1924.0</td>\n",
       "      <td>2000.0</td>\n",
       "      <td>https://tools.wprdc.org/images/pittsburgh/brid...</td>\n",
       "      <td>West End</td>\n",
       "      <td>2</td>\n",
       "      <td>20.0</td>\n",
       "      <td>42003562600</td>\n",
       "      <td>5.0</td>\n",
       "      <td>20.0</td>\n",
       "      <td>6.0</td>\n",
       "      <td>1-17</td>\n",
       "      <td>40.440063</td>\n",
       "      <td>-80.033353</td>\n",
       "    </tr>\n",
       "    <tr>\n",
       "      <th>4</th>\n",
       "      <td>2047190591</td>\n",
       "      <td>Millvale Trail Pedestrian Bridge</td>\n",
       "      <td>Troy Hill</td>\n",
       "      <td>NaN</td>\n",
       "      <td>NaN</td>\n",
       "      <td>NaN</td>\n",
       "      <td>NaN</td>\n",
       "      <td>Troy Hill</td>\n",
       "      <td>1</td>\n",
       "      <td>24.0</td>\n",
       "      <td>42003240600</td>\n",
       "      <td>1.0</td>\n",
       "      <td>24.0</td>\n",
       "      <td>1.0</td>\n",
       "      <td>1-1</td>\n",
       "      <td>40.466586</td>\n",
       "      <td>-79.977731</td>\n",
       "    </tr>\n",
       "  </tbody>\n",
       "</table>\n",
       "</div>"
      ],
      "text/plain": [
       "           id                              name         start_neighborhood  \\\n",
       "0  2002832442                Fort Duquesne Blvd  Central Business District   \n",
       "1   761156487                28th Street Bridge             Strip District   \n",
       "2   290122944              Second Avenue Bridge        Squirrel Hill South   \n",
       "3  1811170969           Alexander Street Bridge                   West End   \n",
       "4  2047190591  Millvale Trail Pedestrian Bridge                  Troy Hill   \n",
       "\n",
       "  end_neighborhood  year_built  year_rehab  \\\n",
       "0              NaN         NaN         NaN   \n",
       "1      Polish Hill      1931.0      1974.0   \n",
       "2   Swisshelm Park      1886.0      1970.0   \n",
       "3              NaN      1924.0      2000.0   \n",
       "4              NaN         NaN         NaN   \n",
       "\n",
       "                                               image  \\\n",
       "0                                                NaN   \n",
       "1  https://tools.wprdc.org/images/pittsburgh/brid...   \n",
       "2                                                NaN   \n",
       "3  https://tools.wprdc.org/images/pittsburgh/brid...   \n",
       "4                                                NaN   \n",
       "\n",
       "                neighborhood  council_district  ward        tract  \\\n",
       "0  Central Business District                 6   2.0  42003020100   \n",
       "1             Strip District                 7   6.0  42003060500   \n",
       "2             Swisshelm Park                 5  14.0  42003141400   \n",
       "3                   West End                 2  20.0  42003562600   \n",
       "4                  Troy Hill                 1  24.0  42003240600   \n",
       "\n",
       "   public_works_division  pli_division  police_zone fire_zone   latitude  \\\n",
       "0                    6.0           2.0          2.0       1-3  40.446450   \n",
       "1                    6.0           6.0          2.0      2-25  40.456182   \n",
       "2                    3.0          14.0          4.0      2-12  40.415210   \n",
       "3                    5.0          20.0          6.0      1-17  40.440063   \n",
       "4                    1.0          24.0          1.0       1-1  40.466586   \n",
       "\n",
       "   longitude  \n",
       "0 -79.996537  \n",
       "1 -79.973714  \n",
       "2 -79.915699  \n",
       "3 -80.033353  \n",
       "4 -79.977731  "
      ]
     },
     "execution_count": 4,
     "metadata": {},
     "output_type": "execute_result"
    }
   ],
   "source": [
    "#Reading in csv file\n",
    "bridges = pd.read_csv(\"Bridges_Dataset.csv\")\n",
    "bridges.head(5)"
   ]
  },
  {
   "cell_type": "markdown",
   "metadata": {},
   "source": [
    "In the table above, I have a partial representation of the bridges dataset."
   ]
  },
  {
   "cell_type": "code",
   "execution_count": 10,
   "metadata": {},
   "outputs": [
    {
     "name": "stdout",
     "output_type": "stream",
     "text": [
      "{'Central Business District': 12, 'Strip District': 1, 'Swisshelm Park': 2, 'West End': 4, 'Troy Hill': 7, 'Squirrel Hill South': 14, 'Brookline': 1, 'Overbrook': 6, 'Arlington': 2, 'Oakwood': 5, 'Bloomfield': 2, 'Greenfield': 2, 'Polish Hill': 3, 'Lower Lawrenceville': 2, 'Brighton Heights': 2, 'Hays': 6, 'Beechview': 1, 'Banksville': 1, 'Shadyside': 6, 'Central Oakland': 1, 'Sheraden': 3, 'East Allegheny': 4, 'Manchester': 1, 'Mount Washington': 4, 'Larimer': 3, 'East Liberty': 2, 'Summer Hill': 1, 'Bon Air': 3, 'Bluff': 2, 'South Oakland': 4, 'Hazelwood': 4, 'Point Breeze': 1, 'Squirrel Hill North': 2, nan: 4, 'Allentown': 1, 'South Side Flats': 5, 'Spring Hill-City View': 1, 'Allegheny Center': 3, 'Lincoln-Lemington-Belmar': 2, 'Perry South': 2, 'Northview Heights': 1, 'South Side Slopes': 5, 'Allegheny West': 2, 'Homewood South': 1, 'Highland Park': 2, 'California-Kirkbride': 1, 'Marshall-Shadeland': 2, 'South Shore': 1, 'Esplen': 1, 'Elliott': 1, 'Regent Square': 1, 'Windgap': 2, 'North Shore': 1}\n"
     ]
    }
   ],
   "source": [
    "bridge_dict = dict()\n",
    "# Creating dictionary of the neighborhoods and their number of bridges\n",
    "for column in bridges:\n",
    "    looping = bridges['neighborhood'].values\n",
    "\n",
    "for value in looping: \n",
    "    if value not in bridge_dict:\n",
    "            bridge_dict[value] = 1\n",
    "    else:\n",
    "        bridge_dict[value] = bridge_dict[value] + 1 \n",
    "\n",
    "print(bridge_dict)"
   ]
  },
  {
   "cell_type": "markdown",
   "metadata": {},
   "source": [
    "In the above dictionary, I have each neighborhood listed along with how many bridges is connected to it."
   ]
  },
  {
   "cell_type": "code",
   "execution_count": 39,
   "metadata": {},
   "outputs": [
    {
     "name": "stdout",
     "output_type": "stream",
     "text": [
      "Squirrel Hill South          14\n",
      "Central Business District    12\n",
      "Troy Hill                     7\n",
      "Overbrook                     6\n",
      "Hays                          6\n",
      "Shadyside                     6\n",
      "Oakwood                       5\n",
      "South Side Flats              5\n",
      "South Side Slopes             5\n",
      "NaN                           4\n",
      "West End                      4\n",
      "Hazelwood                     4\n",
      "South Oakland                 4\n",
      "Mount Washington              4\n",
      "East Allegheny                4\n",
      "Bon Air                       3\n",
      "Larimer                       3\n",
      "Allegheny Center              3\n",
      "Sheraden                      3\n",
      "Polish Hill                   3\n",
      "Bloomfield                    2\n",
      "Greenfield                    2\n",
      "Perry South                   2\n",
      "Lincoln-Lemington-Belmar      2\n",
      "Swisshelm Park                2\n",
      "Windgap                       2\n",
      "Highland Park                 2\n",
      "Arlington                     2\n",
      "Squirrel Hill North           2\n",
      "Allegheny West                2\n",
      "Bluff                         2\n",
      "Marshall-Shadeland            2\n",
      "East Liberty                  2\n",
      "Lower Lawrenceville           2\n",
      "Brighton Heights              2\n",
      "Elliott                       1\n",
      "California-Kirkbride          1\n",
      "Homewood South                1\n",
      "South Shore                   1\n",
      "Regent Square                 1\n",
      "Esplen                        1\n",
      "Summer Hill                   1\n",
      "Northview Heights             1\n",
      "Spring Hill-City View         1\n",
      "Allentown                     1\n",
      "Point Breeze                  1\n",
      "Strip District                1\n",
      "Manchester                    1\n",
      "Central Oakland               1\n",
      "Banksville                    1\n",
      "Beechview                     1\n",
      "Brookline                     1\n",
      "North Shore                   1\n",
      "dtype: int64\n"
     ]
    }
   ],
   "source": [
    "brid = pd.Series(bridge_dict).sort_values(ascending=False)\n",
    "print(brid)"
   ]
  },
  {
   "cell_type": "markdown",
   "metadata": {},
   "source": []
  },
  {
   "cell_type": "code",
   "execution_count": 40,
   "metadata": {},
   "outputs": [
    {
     "name": "stdout",
     "output_type": "stream",
     "text": [
      "Squirrel Hill South          14\n",
      "Central Business District    12\n",
      "Troy Hill                     7\n",
      "Overbrook                     6\n",
      "Hays                          6\n",
      "Shadyside                     6\n",
      "Oakwood                       5\n",
      "South Side Flats              5\n",
      "South Side Slopes             5\n",
      "dtype: int64\n"
     ]
    }
   ],
   "source": [
    "top = brid.head(9)\n",
    "print(top)"
   ]
  },
  {
   "cell_type": "markdown",
   "metadata": {},
   "source": []
  },
  {
   "cell_type": "code",
   "execution_count": 64,
   "metadata": {},
   "outputs": [
    {
     "data": {
      "text/plain": [
       "Text(0, 0.5, 'Number of Bridges')"
      ]
     },
     "execution_count": 64,
     "metadata": {},
     "output_type": "execute_result"
    },
    {
     "data": {
      "image/png": "[encoded data removed]",
      "text/plain": [
       "<Figure size 921.6x633.6 with 1 Axes>"
      ]
     },
     "metadata": {
      "needs_background": "light"
     },
     "output_type": "display_data"
    }
   ],
   "source": [
    "plt.style.use('seaborn-poster')\n",
    "top.plot.bar(rot=-60, width=0.6)  \n",
    "plt.title('Bridges Per Neighborhood')\n",
    "plt.xlabel('Neighborhoods')\n",
    "plt.ylabel('Number of Bridges')"
   ]
  },
  {
   "cell_type": "code",
   "execution_count": 22,
   "metadata": {},
   "outputs": [
    {
     "data": {
      "text/plain": [
       "['Solarize_Light2',\n",
       " '_classic_test_patch',\n",
       " 'bmh',\n",
       " 'classic',\n",
       " 'dark_background',\n",
       " 'fast',\n",
       " 'fivethirtyeight',\n",
       " 'ggplot',\n",
       " 'grayscale',\n",
       " 'seaborn',\n",
       " 'seaborn-bright',\n",
       " 'seaborn-colorblind',\n",
       " 'seaborn-dark',\n",
       " 'seaborn-dark-palette',\n",
       " 'seaborn-darkgrid',\n",
       " 'seaborn-deep',\n",
       " 'seaborn-muted',\n",
       " 'seaborn-notebook',\n",
       " 'seaborn-paper',\n",
       " 'seaborn-pastel',\n",
       " 'seaborn-poster',\n",
       " 'seaborn-talk',\n",
       " 'seaborn-ticks',\n",
       " 'seaborn-white',\n",
       " 'seaborn-whitegrid',\n",
       " 'tableau-colorblind10']"
      ]
     },
     "execution_count": 22,
     "metadata": {},
     "output_type": "execute_result"
    }
   ],
   "source": []
  },
  {
   "cell_type": "code",
   "execution_count": null,
   "metadata": {},
   "outputs": [],
   "source": []
  }
 ],
 "metadata": {
  "kernelspec": {
   "display_name": "Python 3",
   "language": "python",
   "name": "python3"
  },
  "language_info": {
   "codemirror_mode": {
    "name": "ipython",
    "version": 3
   },
   "file_extension": ".py",
   "mimetype": "text/x-python",
   "name": "python",
   "nbconvert_exporter": "python",
   "pygments_lexer": "ipython3",
   "version": "3.8.3"
  }
 },
 "nbformat": 4,
 "nbformat_minor": 4
}
