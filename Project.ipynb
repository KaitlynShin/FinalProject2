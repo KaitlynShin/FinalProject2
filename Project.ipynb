{
 "cells": [
  {
   "cell_type": "markdown",
   "metadata": {},
   "source": [
    "# Introduction\n",
    "## Best Neighborhood in case of a Zombie Apocalypse \n",
    "**Introduce the project, your approach, talk about the process of how you came up with the metric and some alternatives you may have explored.**\n",
    "We chose to find the best neighboorhood in case of a zombie apocalypse. \n",
    "\n",
    "## The Metric \n",
    "The metric is to find the best neighborhood in case of a zombie apocalypse. We decided to base our stuff on the least amunt of people in a neighborhood but on the most parks and bridges. \n",
    "\n",
    "Therfore, our datasets are  \n",
    "\n",
    "**Parks**: Having more parks means that you have more space to hide/avoid zombies. \n",
    "\n",
    "Bridges: \n",
    "\n",
    "Population: \n",
    "\n",
    "\n"
   ]
  },
  {
   "cell_type": "code",
   "execution_count": null,
   "metadata": {},
   "outputs": [],
   "source": [
    "# Imports \n",
    "import pandas as pd\n",
    "import numpy as np\n",
    "import math\n",
    "import geopandas as gpd\n",
    "%matplotlib inline\n",
    "import matplotlib.pyplot as plt"
   ]
  },
  {
   "cell_type": "markdown",
   "metadata": {},
   "source": [
    "# Parks Dataset \n",
    "**By Maia Harmon**\n",
    "\n",
    "My goal is to find out how many parks are in each neighborhood because having more parks would mean there is space to hide or avoid the zombies. "
   ]
  },
  {
   "cell_type": "code",
   "execution_count": 3,
   "metadata": {
    "collapsed": true,
    "jupyter": {
     "outputs_hidden": true
    }
   },
   "outputs": [
    {
     "data": {
      "text/html": [
       "<div>\n",
       "<style scoped>\n",
       "    .dataframe tbody tr th:only-of-type {\n",
       "        vertical-align: middle;\n",
       "    }\n",
       "\n",
       "    .dataframe tbody tr th {\n",
       "        vertical-align: top;\n",
       "    }\n",
       "\n",
       "    .dataframe thead th {\n",
       "        text-align: right;\n",
       "    }\n",
       "</style>\n",
       "<table border=\"1\" class=\"dataframe\">\n",
       "  <thead>\n",
       "    <tr style=\"text-align: right;\">\n",
       "      <th></th>\n",
       "      <th>id</th>\n",
       "      <th>name</th>\n",
       "      <th>type</th>\n",
       "      <th>maintenance_responsibility</th>\n",
       "      <th>image</th>\n",
       "      <th>neighborhood</th>\n",
       "      <th>council_district</th>\n",
       "      <th>ward</th>\n",
       "      <th>tract</th>\n",
       "      <th>public_works_division</th>\n",
       "      <th>pli_division</th>\n",
       "      <th>police_zone</th>\n",
       "      <th>fire_zone</th>\n",
       "      <th>latitude</th>\n",
       "      <th>longitude</th>\n",
       "    </tr>\n",
       "  </thead>\n",
       "  <tbody>\n",
       "    <tr>\n",
       "      <th>0</th>\n",
       "      <td>2111959181</td>\n",
       "      <td>Able Long Park</td>\n",
       "      <td>Park</td>\n",
       "      <td>Parks - Southern</td>\n",
       "      <td>https://tools.wprdc.org/images/pittsburgh/park...</td>\n",
       "      <td>Beechview</td>\n",
       "      <td>4</td>\n",
       "      <td>19</td>\n",
       "      <td>42003192000</td>\n",
       "      <td>5</td>\n",
       "      <td>19</td>\n",
       "      <td>6</td>\n",
       "      <td>4-28</td>\n",
       "      <td>40.408118</td>\n",
       "      <td>-80.028197</td>\n",
       "    </tr>\n",
       "    <tr>\n",
       "      <th>1</th>\n",
       "      <td>1109513049</td>\n",
       "      <td>Albert Turk Graham Park</td>\n",
       "      <td>Park</td>\n",
       "      <td>Parks - Schenley</td>\n",
       "      <td>https://tools.wprdc.org/images/pittsburgh/park...</td>\n",
       "      <td>Crawford-Roberts</td>\n",
       "      <td>6</td>\n",
       "      <td>3</td>\n",
       "      <td>42003030500</td>\n",
       "      <td>3</td>\n",
       "      <td>3</td>\n",
       "      <td>2</td>\n",
       "      <td>2-1</td>\n",
       "      <td>40.440507</td>\n",
       "      <td>-79.984018</td>\n",
       "    </tr>\n",
       "    <tr>\n",
       "      <th>2</th>\n",
       "      <td>1544096765</td>\n",
       "      <td>Alcoa Park</td>\n",
       "      <td>Park</td>\n",
       "      <td>Parks - Northern</td>\n",
       "      <td>NaN</td>\n",
       "      <td>North Shore</td>\n",
       "      <td>1</td>\n",
       "      <td>22</td>\n",
       "      <td>42003563200</td>\n",
       "      <td>6</td>\n",
       "      <td>22</td>\n",
       "      <td>1</td>\n",
       "      <td>1-20</td>\n",
       "      <td>40.447481</td>\n",
       "      <td>-80.001017</td>\n",
       "    </tr>\n",
       "    <tr>\n",
       "      <th>3</th>\n",
       "      <td>1212681573</td>\n",
       "      <td>Allegheny Commons</td>\n",
       "      <td>Park</td>\n",
       "      <td>Parks - Northern</td>\n",
       "      <td>NaN</td>\n",
       "      <td>Allegheny Center</td>\n",
       "      <td>1</td>\n",
       "      <td>22</td>\n",
       "      <td>42003562700</td>\n",
       "      <td>1</td>\n",
       "      <td>22</td>\n",
       "      <td>1</td>\n",
       "      <td>1-7</td>\n",
       "      <td>40.453126</td>\n",
       "      <td>-80.009158</td>\n",
       "    </tr>\n",
       "    <tr>\n",
       "      <th>4</th>\n",
       "      <td>954863286</td>\n",
       "      <td>Allegheny Landing Park</td>\n",
       "      <td>Park</td>\n",
       "      <td>Parks - Northern</td>\n",
       "      <td>NaN</td>\n",
       "      <td>North Shore</td>\n",
       "      <td>1</td>\n",
       "      <td>22</td>\n",
       "      <td>42003563200</td>\n",
       "      <td>6</td>\n",
       "      <td>22</td>\n",
       "      <td>1</td>\n",
       "      <td>1-20</td>\n",
       "      <td>40.447184</td>\n",
       "      <td>-80.002907</td>\n",
       "    </tr>\n",
       "  </tbody>\n",
       "</table>\n",
       "</div>"
      ],
      "text/plain": [
       "           id                     name  type maintenance_responsibility  \\\n",
       "0  2111959181           Able Long Park  Park           Parks - Southern   \n",
       "1  1109513049  Albert Turk Graham Park  Park           Parks - Schenley   \n",
       "2  1544096765               Alcoa Park  Park           Parks - Northern   \n",
       "3  1212681573        Allegheny Commons  Park           Parks - Northern   \n",
       "4   954863286   Allegheny Landing Park  Park           Parks - Northern   \n",
       "\n",
       "                                               image      neighborhood  \\\n",
       "0  https://tools.wprdc.org/images/pittsburgh/park...         Beechview   \n",
       "1  https://tools.wprdc.org/images/pittsburgh/park...  Crawford-Roberts   \n",
       "2                                                NaN       North Shore   \n",
       "3                                                NaN  Allegheny Center   \n",
       "4                                                NaN       North Shore   \n",
       "\n",
       "   council_district  ward        tract  public_works_division  pli_division  \\\n",
       "0                 4    19  42003192000                      5            19   \n",
       "1                 6     3  42003030500                      3             3   \n",
       "2                 1    22  42003563200                      6            22   \n",
       "3                 1    22  42003562700                      1            22   \n",
       "4                 1    22  42003563200                      6            22   \n",
       "\n",
       "   police_zone fire_zone   latitude  longitude  \n",
       "0            6      4-28  40.408118 -80.028197  \n",
       "1            2       2-1  40.440507 -79.984018  \n",
       "2            1      1-20  40.447481 -80.001017  \n",
       "3            1       1-7  40.453126 -80.009158  \n",
       "4            1      1-20  40.447184 -80.002907  "
      ]
     },
     "execution_count": 3,
     "metadata": {},
     "output_type": "execute_result"
    }
   ],
   "source": [
    "#Read data from csv file\n",
    "parks = pd.read_csv(\"Dataset for Parks.csv\")\n",
    "# Making a table \n",
    "parks.head(5)"
   ]
  },
  {
   "cell_type": "code",
   "execution_count": 4,
   "metadata": {
    "collapsed": true,
    "jupyter": {
     "outputs_hidden": true
    }
   },
   "outputs": [
    {
     "name": "stdout",
     "output_type": "stream",
     "text": [
      "{'Beechview': 8, 'Crawford-Roberts': 3, 'North Shore': 3, 'Allegheny Center': 2, 'Central Business District': 10, 'Central Northside': 3, 'East Liberty': 12, 'Bedford Dwellings': 1, 'South Side Slopes': 7, 'South Side Flats': 6, 'Lower Lawrenceville': 3, 'Banksville': 2, 'South Oakland': 5, 'Homewood North': 2, 'Hazelwood': 6, 'Bon Air': 1, 'Central Oakland': 4, 'Brighton Heights': 4, 'Brookline': 3, 'Spring Garden': 2, 'Lincoln-Lemington-Belmar': 3, 'Windgap': 1, 'Troy Hill': 5, 'Westwood': 3, 'Perry South': 2, 'Homewood West': 1, 'Squirrel Hill South': 6, 'Strip District': 2, 'Arlington': 1, 'Stanton Heights': 1, 'Crafton Heights': 2, 'Upper Lawrenceville': 3, 'East Carnegie': 1, 'East Hills': 1, 'Point Breeze': 7, 'Allentown': 2, 'Duquesne Heights': 2, 'Mount Washington': 6, 'Esplen': 1, 'Fairywood': 1, 'Fineview': 2, 'Garfield': 3, 'Greenfield': 3, 'Larimer': 3, 'Bloomfield': 3, 'Perry North': 2, 'North Oakland': 1, 'Hays': 1, 'Elliott': 4, 'Highland Park': 2, 'Homewood South': 1, 'Morningside': 1, 'Terrace Village': 2, 'Spring Hill-City View': 3, 'Carrick': 3, 'Central Lawrenceville': 1, 'Lincoln Place': 2, 'Manchester': 3, 'Marshall-Shadeland': 4, 'Sheraden': 6, 'Beltzhoover': 3, 'Point Breeze North': 3, 'Oakwood': 1, 'Polish Hill': 2, 'Regent Square': 1, 'Upper Hill': 1, 'New Homestead': 1, 'West Oakland': 1, 'Swisshelm Park': 3, 'Bluff': 1, 'Middle Hill': 1, 'West End': 2, 'Squirrel Hill North': 1}\n"
     ]
    }
   ],
   "source": [
    "dictionary = dict()\n",
    "\n",
    "for column in parks:\n",
    "    looping = parks['neighborhood'].values\n",
    "\n",
<<<<<<< HEAD
    "**Bridges**: The more bridges connected to a neighborhood, the easier it is to remain remote from other neighborhoods and decrease the amount of routes and entrances for zombies to enter from.  \n",
=======
    "for value in looping: \n",
    "    if value not in dictionary:\n",
    "            dictionary[value] = 1\n",
    "    else:\n",
    "        dictionary[value] = dictionary[value] + 1 \n",
>>>>>>> ea66f616750dae7e36b6fd17799f9faa978bc937
    "\n",
    "print(dictionary)"
   ]
  },
  {
   "cell_type": "markdown",
   "metadata": {},
   "source": [
    "This is showing how many times a neighborhood was mentioned in showing how parks were in each neighborhood. The for loop is going through the parks dataset and taking all the values of each time that specific neighborhood was mentioned. The result is the neighborhood with the total amount of times. "
   ]
  },
  {
   "cell_type": "code",
   "execution_count": 5,
   "metadata": {
    "collapsed": true,
    "jupyter": {
     "outputs_hidden": true
    }
   },
   "outputs": [
    {
     "name": "stdout",
     "output_type": "stream",
     "text": [
      "East Liberty                 12\n",
      "Central Business District    10\n",
      "Beechview                     8\n",
      "South Side Slopes             7\n",
      "Point Breeze                  7\n",
      "                             ..\n",
      "Hays                          1\n",
      "Arlington                     1\n",
      "Stanton Heights               1\n",
      "Morningside                   1\n",
      "Squirrel Hill North           1\n",
      "Length: 73, dtype: int64\n"
     ]
    }
   ],
   "source": [
    "#Make into series\n",
    "park_series = pd.Series(dictionary)\n",
    "\n",
    "#Put in descending order \n",
    "park_sorted = park_series.sort_values(ascending=False)\n",
    "print(park_sorted)"
   ]
  },
  {
   "cell_type": "markdown",
   "metadata": {},
   "source": [
    "This is the sorted series of all the neighborhoods. As shown, you can see that **East Liberty** is the neighborhood that has the most parks in it. Below, we are going to plot this data. "
   ]
  },
  {
   "cell_type": "code",
   "execution_count": 6,
   "metadata": {},
   "outputs": [
    {
     "data": {
      "text/plain": [
       "<matplotlib.axes._subplots.AxesSubplot at 0x7fa8d9b3ee50>"
      ]
     },
     "execution_count": 6,
     "metadata": {},
     "output_type": "execute_result"
    },
    {
     "data": {
      "image/png": "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\n",
      "text/plain": [
       "<Figure size 432x288 with 1 Axes>"
      ]
     },
     "metadata": {
      "needs_background": "light"
     },
     "output_type": "display_data"
    }
   ],
   "source": [
    "park_sorted.plot.bar()"
   ]
  },
  {
   "cell_type": "markdown",
   "metadata": {},
   "source": [
    "This is all the data from the beginning, however, we cannot see the words. So, I want to only plot the top neighborhoods that have the most parks. "
   ]
  },
  {
   "cell_type": "code",
   "execution_count": 7,
   "metadata": {},
   "outputs": [
    {
     "name": "stdout",
     "output_type": "stream",
     "text": [
      "East Liberty                 12\n",
      "Central Business District    10\n",
      "Beechview                     8\n",
      "South Side Slopes             7\n",
      "Point Breeze                  7\n",
      "Squirrel Hill South           6\n",
      "dtype: int64\n"
     ]
    }
   ],
   "source": [
    "#Getting only the top 6 \n",
    "top6 = park_sorted.head(6)\n",
    "print(top6)"
   ]
  },
  {
   "cell_type": "code",
   "execution_count": 8,
   "metadata": {},
   "outputs": [
    {
     "data": {
      "text/plain": [
       "Text(0, 0.5, 'Number of Parks')"
      ]
     },
     "execution_count": 8,
     "metadata": {},
     "output_type": "execute_result"
    },
    {
     "data": {
      "image/png": "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\n",
      "text/plain": [
       "<Figure size 432x288 with 1 Axes>"
      ]
     },
     "metadata": {
      "needs_background": "light"
     },
     "output_type": "display_data"
    }
   ],
   "source": [
    "#Plotting the top 6 \n",
    "plt.style.use('seaborn-bright')\n",
    "top6.plot.bar(rot = 20, color=['green', 'red', 'orange', 'yellow', 'purple', 'pink'])\n",
    "plt.title(\"Parks Per Neighborhood\")\n",
    "plt.xlabel(\"Neighborhoods\")\n",
    "plt.ylabel(\"Number of Parks\")"
   ]
  },
  {
   "cell_type": "markdown",
   "metadata": {},
   "source": [
    "Above is the bar graph for the top 6 neighborhoods that have the most parks. "
   ]
  },
  {
   "cell_type": "markdown",
   "metadata": {},
   "source": [
    "# Result \n",
    "Finally, we can see that **East Liberty** is the neighborhood that has the most parks in it. "
   ]
  },
  {
   "cell_type": "code",
   "execution_count": null,
   "metadata": {},
   "outputs": [],
   "source": []
  }
 ],
 "metadata": {
  "kernelspec": {
   "display_name": "Python 3",
   "language": "python",
   "name": "python3"
  },
  "language_info": {
   "codemirror_mode": {
    "name": "ipython",
    "version": 3
   },
   "file_extension": ".py",
   "mimetype": "text/x-python",
   "name": "python",
   "nbconvert_exporter": "python",
   "pygments_lexer": "ipython3",
   "version": "3.8.3"
  }
 },
 "nbformat": 4,
 "nbformat_minor": 4
}
